{
 "cells": [
  {
   "cell_type": "markdown",
   "metadata": {
    "deletable": false,
    "editable": false,
    "nbgrader": {
     "cell_type": "markdown",
     "checksum": "cacf7f4360d6d53c622742f64048f72c",
     "grade": false,
     "grade_id": "cell-8a754c8ce8a16eeb",
     "locked": true,
     "schema_version": 3,
     "solution": false,
     "task": false
    }
   },
   "source": [
    "# Assignment 1\n",
    "\n",
    "In this assignment, you'll be working with messy medical data and using regex to extract relevant infromation from the data. \n",
    "\n",
    "Each line of the `dates.txt` file corresponds to a medical note. Each note has a date that needs to be extracted, but each date is encoded in one of many formats.\n",
    "\n",
    "The goal of this assignment is to correctly identify all of the different date variants encoded in this dataset and to properly normalize and sort the dates. \n",
    "\n",
    "Here is a list of some of the variants you might encounter in this dataset:\n",
    "* 04/20/2009; 04/20/09; 4/20/09; 4/3/09\n",
    "* Mar-20-2009; Mar 20, 2009; March 20, 2009;  Mar. 20, 2009; Mar 20 2009;\n",
    "* 20 Mar 2009; 20 March 2009; 20 Mar. 2009; 20 March, 2009\n",
    "* Mar 20th, 2009; Mar 21st, 2009; Mar 22nd, 2009\n",
    "* Feb 2009; Sep 2009; Oct 2010\n",
    "* 6/2008; 12/2009\n",
    "* 2009; 2010\n",
    "\n",
    "Once you have extracted these date patterns from the text, the next step is to sort them in ascending chronological order accoring to the following rules:\n",
    "* Assume all dates in xx/xx/xx format are mm/dd/yy\n",
    "* Assume all dates where year is encoded in only two digits are years from the 1900's (e.g. 1/5/89 is January 5th, 1989)\n",
    "* If the day is missing (e.g. 9/2009), assume it is the first day of the month (e.g. September 1, 2009).\n",
    "* If the month is missing (e.g. 2010), assume it is the first of January of that year (e.g. January 1, 2010).\n",
    "* Watch out for potential typos as this is a raw, real-life derived dataset.\n",
    "\n",
    "With these rules in mind, find the correct date in each note and return a pandas Series in chronological order of the original Series' indices. **This Series should be sorted by a tie-break sort in the format of (\"extracted date\", \"original row number\").**\n",
    "\n",
    "For example if the original series was this:\n",
    "\n",
    "    0    1999\n",
    "    1    2010\n",
    "    2    1978\n",
    "    3    2015\n",
    "    4    1985\n",
    "\n",
    "Your function should return this:\n",
    "\n",
    "    0    2\n",
    "    1    4\n",
    "    2    0\n",
    "    3    1\n",
    "    4    3\n",
    "\n",
    "Your score will be calculated using [Kendall's tau](https://en.wikipedia.org/wiki/Kendall_rank_correlation_coefficient), a correlation measure for ordinal data.\n",
    "\n",
    "*This function should return a Series of length 500 and dtype int.*"
   ]
  },
  {
   "cell_type": "code",
   "execution_count": 22,
   "metadata": {
    "deletable": false,
    "editable": false,
    "nbgrader": {
     "cell_type": "code",
     "checksum": "4b47ce38a503bfb1f113580f394d8667",
     "grade": false,
     "grade_id": "cell-28048f36edc32946",
     "locked": true,
     "schema_version": 3,
     "solution": false,
     "task": false
    },
    "tags": []
   },
   "outputs": [
    {
     "data": {
      "text/plain": [
       "0         03/25/93 Total time of visit (in minutes):\\n\n",
       "1                       6/18/85 Primary Care Doctor:\\n\n",
       "2    sshe plans to move as of 7/8/71 In-Home Servic...\n",
       "3                7 on 9/27/75 Audit C Score Current:\\n\n",
       "4    2/6/96 sleep studyPain Treatment Pain Level (N...\n",
       "5                    .Per 7/06/79 Movement D/O note:\\n\n",
       "6    4, 5/18/78 Patient's thoughts about current su...\n",
       "7    10/24/89 CPT Code: 90801 - Psychiatric Diagnos...\n",
       "8                         3/7/86 SOS-10 Total Score:\\n\n",
       "9             (4/10/71)Score-1Audit C Score Current:\\n\n",
       "dtype: object"
      ]
     },
     "execution_count": 22,
     "metadata": {},
     "output_type": "execute_result"
    }
   ],
   "source": [
    "import pandas as pd\n",
    "\n",
    "doc = []\n",
    "with open('assets/dates.txt') as file:\n",
    "    for line in file:\n",
    "        doc.append(line)\n",
    "\n",
    "df = pd.Series(doc)\n",
    "df.head(10)"
   ]
  },
  {
   "cell_type": "code",
   "execution_count": 23,
   "metadata": {
    "deletable": false,
    "nbgrader": {
     "cell_type": "code",
     "checksum": "3e58e227860ae4b02d6bdddd81506787",
     "grade": false,
     "grade_id": "cell-d6f35a51303ed6ff",
     "locked": false,
     "schema_version": 3,
     "solution": true,
     "task": false
    }
   },
   "outputs": [],
   "source": [
    "import pandas as pd\n",
    "import numpy as np \n",
    "import re\n",
    "\n",
    "# Load the data\n",
    "doc = []\n",
    "with open('assets/dates.txt') as file:\n",
    "    for line in file:\n",
    "        doc.append(line)\n",
    "\n",
    "df = pd.Series(doc)\n",
    "\n",
    "def date_sorter():\n",
    "    # Extract dates like mm/dd/yy (2-digit year)\n",
    "    a1_1 = df.str.extractall(r'(\\d{1,2})[/-](\\d{1,2})[/-](\\d{2})\\b')\n",
    "    \n",
    "    # Extract dates like mm/dd/yyyy (4-digit year)\n",
    "    a1_2 = df.str.extractall(r'(\\d{1,2})[/-](\\d{1,2})[/-](\\d{4})\\b')\n",
    "    \n",
    "    # Combine both formats and keep original line numbers\n",
    "    a1 = pd.concat([a1_1, a1_2])\n",
    "    a1.reset_index(inplace=True)\n",
    "    a1_index = a1['level_0']\n",
    "\n",
    "    # Extract formats like \"March 20, 2009\" or \"Mar 20, 2009\"\n",
    "    a2 = df.str.extractall(r'((?:Jan|Feb|Mar|Apr|May|Jun|Jul|Aug|Sep|Oct|Nov|Dec)[a-z]*[-.]* )((?:\\d{1,2}[?:, -]*)\\d{4})')\n",
    "    a2.reset_index(inplace=True)\n",
    "    a2_index = a2['level_0']\n",
    "\n",
    "    # Extract formats like \"20 March 2009\"\n",
    "    a3 = df.str.extractall(r'((?:\\d{1,2} ))?((?:Jan|Feb|Mar|Apr|May|Jun|Jul|Aug|Sep|Oct|Nov|Dec)[a-z]*[?:, -]* )(\\d{4})')\n",
    "    a3.reset_index(inplace=True)\n",
    "    a3_index = a3['level_0']\n",
    "\n",
    "    # Extract formats like \"6/2008\"\n",
    "    a6 = df.str.extractall(r'(\\d{1,2})[/](\\d{4})')\n",
    "    a6.reset_index(inplace=True)\n",
    "    a6_index = a6['level_0']\n",
    "\n",
    "    # Exclude rows already handled in a1\n",
    "    save = [i for i in a6_index if i not in a1_index.values]\n",
    "    a6 = a6[a6['level_0'].isin(save)]\n",
    "\n",
    "    # Extract formats like \"2009\" (year only)\n",
    "    a7_1 = df.str.extractall(r'[a-z]?[^0-9](\\d{4})[^0-9]')\n",
    "    a7_2 = df.str.extractall(r'^(\\d{4})[^0-9]')\n",
    "    a7 = pd.concat([a7_1, a7_2])\n",
    "    a7.reset_index(inplace=True)\n",
    "    a7_index = a7['level_0']\n",
    "\n",
    "    # Exclude overlaps with a2, a3, a6\n",
    "    save = [i for i in a7_index if i not in a2_index.values and i not in a3_index.values and i not in a6_index.values]\n",
    "    a7 = a7[a7['level_0'].isin(save)]\n",
    "\n",
    "    # Combine indices from all extracted groups\n",
    "    s = a1.level_0.values.tolist() + a2.level_0.values.tolist() + a3.level_0.values.tolist() + a6.level_0.values.tolist() + a7.level_0.values.tolist()\n",
    "    s = np.asarray(s)\n",
    "\n",
    "    # Format columns of each group properly\n",
    "    a1.columns = ['level_0', 'match', 'month', 'day', 'year']\n",
    "    a1['year'] = a1['year'].apply(str)\n",
    "    a1['year'] = a1['year'].apply(lambda x: '19'+x if len(x) <= 2 else x)\n",
    "\n",
    "    a2[1] = a2[1].apply(lambda x: x.replace(',', ''))\n",
    "    a2['day'] = a2[1].apply(lambda x: x.split(' ')[0])\n",
    "    a2['year'] = a2[1].apply(lambda x: x.split(' ')[1])\n",
    "    a2.columns = ['level_0', 'match', 'month', 'day-year', 'day', 'year']\n",
    "    a2.drop('day-year', axis=1, inplace=True)\n",
    "\n",
    "    a3.columns = ['level_0', 'match', 'day', 'month', 'year']\n",
    "    a3['day'] = a3['day'].replace(np.nan, -99)\n",
    "    a3['day'] = a3['day'].apply(lambda x: 1 if int(x) == -99 else x)\n",
    "    a3['month'] = a3.month.apply(lambda x: x[:3])\n",
    "    a3['month'] = pd.to_datetime(a3.month, format='%b').dt.month\n",
    "\n",
    "    a6.columns = ['level_0', 'match', 'month', 'year']\n",
    "    a6['day'] = 1\n",
    "\n",
    "    a7.columns = ['level_0', 'match', 'year']\n",
    "    a7['day'] = 1\n",
    "    a7['month'] = 1\n",
    "\n",
    "    # Merge all cleaned date parts\n",
    "    final = pd.concat([a1, a2, a3, a6, a7])\n",
    "\n",
    "    # Build datetime column\n",
    "    final['date'] = pd.to_datetime(final['month'].apply(str) + '/' + final['day'].apply(str) + '/' + final['year'].apply(str))\n",
    "\n",
    "    # Sort by original row number and then by date\n",
    "    final = final.sort_values(by='level_0').set_index('level_0')\n",
    "\n",
    "    # Create the final sorted index list\n",
    "    myList = final['date']\n",
    "    answer = pd.Series([i[0] for i in sorted(enumerate(myList), key=lambda x: x[1])], np.arange(500))\n",
    "    \n",
    "    return answer, final"
   ]
  },
  {
   "cell_type": "code",
   "execution_count": 24,
   "metadata": {},
   "outputs": [],
   "source": [
    "def diff(first, second):\n",
    "    second = set(second)\n",
    "    return [item for item in first if item not in second]"
   ]
  },
  {
   "cell_type": "code",
   "execution_count": 25,
   "metadata": {},
   "outputs": [
    {
     "name": "stdout",
     "output_type": "stream",
     "text": [
      "0     9\n",
      "1    84\n",
      "2     2\n",
      "3    53\n",
      "4    28\n",
      "dtype: int64\n"
     ]
    }
   ],
   "source": [
    "result, final = date_sorter()\n",
    "print(result.head())"
   ]
  },
  {
   "cell_type": "code",
   "execution_count": 26,
   "metadata": {},
   "outputs": [
    {
     "name": "stdout",
     "output_type": "stream",
     "text": [
      "9               (4/10/71)Score-1Audit C Score Current:\\n\n",
      "84           5/18/71 Total time of visit (in minutes):\\n\n",
      "2      sshe plans to move as of 7/8/71 In-Home Servic...\n",
      "53                         7/11/71 SOS-10 Total Score:\\n\n",
      "28                                9/12/71 [report_end]\\n\n",
      "474    sPatient reported losing three friends that pa...\n",
      "153                   13 Jan 1972 Primary Care Doctor:\\n\n",
      "13     1/26/72 Communication with referring physician...\n",
      "129                    06 May 1972 SOS-10 Total Score:\\n\n",
      "98     5/13/72 Other Adult Mental Health Outcomes Sca...\n",
      "dtype: object\n"
     ]
    }
   ],
   "source": [
    "result, final = date_sorter()\n",
    "print(df.iloc[result[:10]])"
   ]
  },
  {
   "cell_type": "code",
   "execution_count": 27,
   "metadata": {},
   "outputs": [],
   "source": [
    "# Re-run to get sorted result\n",
    "result, final = date_sorter()\n",
    "\n",
    "# Open output file to write\n",
    "with open(\"sorted_dates_output.txt\", \"w\") as f:\n",
    "    f.write(\"Sorted dates with line content:\\n\\n\")\n",
    "    \n",
    "    for rank, line_index in enumerate(result):\n",
    "        line_content = df[line_index].strip()\n",
    "        f.write(f\"{rank+1:>3}. Line {line_index}: {line_content}\\n\")"
   ]
  },
  {
   "cell_type": "code",
   "execution_count": 28,
   "metadata": {},
   "outputs": [
    {
     "data": {
      "image/png": "[encoded data removed]",
      "text/plain": [
       "<Figure size 1200x600 with 1 Axes>"
      ]
     },
     "metadata": {},
     "output_type": "display_data"
    }
   ],
   "source": [
    "import matplotlib.pyplot as plt\n",
    "\n",
    "# Add year column\n",
    "final['year'] = final['date'].dt.year\n",
    "\n",
    "# Count entries per year\n",
    "year_counts = final['year'].value_counts().sort_index()\n",
    "\n",
    "# Plot bar chart\n",
    "plt.figure(figsize=(12, 6))\n",
    "year_counts.plot(kind='bar')\n",
    "plt.title('Number of medical notes per year')\n",
    "plt.xlabel('Year')\n",
    "plt.ylabel('Count')\n",
    "plt.grid(True)\n",
    "plt.tight_layout()\n",
    "plt.show()"
   ]
  },
  {
   "cell_type": "code",
   "execution_count": null,
   "metadata": {
    "deletable": false,
    "editable": false,
    "nbgrader": {
     "cell_type": "code",
     "checksum": "c0843c1f0ad2aaa45fa9ac4012f1aa43",
     "grade": true,
     "grade_id": "cell-373f878879c00996",
     "locked": true,
     "points": 4,
     "schema_version": 3,
     "solution": false,
     "task": false
    }
   },
   "outputs": [],
   "source": []
  },
  {
   "cell_type": "code",
   "execution_count": null,
   "metadata": {
    "deletable": false,
    "editable": false,
    "nbgrader": {
     "cell_type": "code",
     "checksum": "0e2f5bb6bab79c07a81ec366c46c4d49",
     "grade": true,
     "grade_id": "cell-0ebae76e6cd794be",
     "locked": true,
     "points": 1,
     "schema_version": 3,
     "solution": false,
     "task": false
    }
   },
   "outputs": [],
   "source": []
  }
 ],
 "metadata": {
  "coursera": {
   "course_slug": "python-text-mining",
   "graded_item_id": "LvcWI",
   "launcher_item_id": "krne9",
   "part_id": "Mkp1I"
  },
  "kernelspec": {
   "display_name": "Python 3 (ipykernel)",
   "language": "python",
   "name": "python3"
  },
  "language_info": {
   "codemirror_mode": {
    "name": "ipython",
    "version": 3
   },
   "file_extension": ".py",
   "mimetype": "text/x-python",
   "name": "python",
   "nbconvert_exporter": "python",
   "pygments_lexer": "ipython3",
   "version": "3.9.13"
  },
  "vscode": {
   "interpreter": {
    "hash": "aee8b7b246df8f9039afb4144a1f6fd8d2ca17a180786b69acc140d282b71a49"
   }
  }
 },
 "nbformat": 4,
 "nbformat_minor": 4
}
